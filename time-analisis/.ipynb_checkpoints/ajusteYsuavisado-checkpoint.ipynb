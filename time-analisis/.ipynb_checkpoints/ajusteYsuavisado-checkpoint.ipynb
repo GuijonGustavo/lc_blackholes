{
 "cells": [
  {
   "cell_type": "markdown",
   "metadata": {},
   "source": [
    "## FRB 180916.J0158 + 65: Ajuste y suavisado"
   ]
  },
  {
   "cell_type": "markdown",
   "metadata": {},
   "source": [
    "### Parte 1"
   ]
  },
  {
   "cell_type": "code",
   "execution_count": null,
   "metadata": {
    "collapsed": true
   },
   "outputs": [],
   "source": [
    "import pandas as pd\n",
    "import numpy as np\n",
    "from scipy.optimize import curve_fit\n",
    "import matplotlib.pylab as plt\n",
    "%matplotlib inline\n",
    "from matplotlib.pylab import rcParams\n",
    "rcParams['figure.figsize'] = 15, 6"
   ]
  },
  {
   "cell_type": "markdown",
   "metadata": {},
   "source": [
    "#### Cargar y graficar la serie"
   ]
  },
  {
   "cell_type": "code",
   "execution_count": null,
   "metadata": {},
   "outputs": [],
   "source": [
    "data = pd.read_csv(\"CO2.csv\", index_col='Year')\n",
    "ts = data[\"CO2 (ppm)\"]"
   ]
  },
  {
   "cell_type": "code",
   "execution_count": null,
   "metadata": {},
   "outputs": [],
   "source": [
    "plt.plot(ts)\n",
    "plt.ylabel(\"Concentración de CO2 en Mauna Loa (ppm)\")\n",
    "plt.xlim(1960,2015)\n",
    "plt.savefig(\"CO2_Mauna_Loa.png\")"
   ]
  },
  {
   "cell_type": "markdown",
   "metadata": {},
   "source": [
    "#### Ajuste de curva"
   ]
  },
  {
   "cell_type": "code",
   "execution_count": null,
   "metadata": {},
   "outputs": [],
   "source": [
    "def recta (x, a, b):\n",
    "    return a*x + b"
   ]
  },
  {
   "cell_type": "code",
   "execution_count": null,
   "metadata": {},
   "outputs": [],
   "source": [
    "tiempo = np.asarray(ts.index)   # conversión automática a fecha decimal\n",
    "c02 = np.asarray(ts.data)"
   ]
  },
  {
   "cell_type": "code",
   "execution_count": null,
   "metadata": {},
   "outputs": [],
   "source": [
    "popt, pcov = curve_fit(recta, tiempo, c02)\n",
    "a,b = popt\n",
    "print(\"Ajuste: %.5f * x + %.3f\" % (a,b))"
   ]
  },
  {
   "cell_type": "code",
   "execution_count": null,
   "metadata": {},
   "outputs": [],
   "source": [
    "tendencia = recta(tiempo,a,b)   # evaluación automática sobre todos los elementos de fechas\n",
    "plt.plot(tiempo,c02)\n",
    "plt.plot(tiempo,tendencia,lw=2)"
   ]
  },
  {
   "cell_type": "code",
   "execution_count": null,
   "metadata": {},
   "outputs": [],
   "source": [
    "def parabola (x, a, b, c):\n",
    "    return a*x**2 + b*x + c"
   ]
  },
  {
   "cell_type": "code",
   "execution_count": null,
   "metadata": {},
   "outputs": [],
   "source": [
    "popt, pcov = curve_fit(parabola, tiempo, c02)\n",
    "a,b,c = popt\n",
    "print(\"Ajuste: %.5f * x^2 + %.5f * x + %.2f\" % (a,b,c))"
   ]
  },
  {
   "cell_type": "code",
   "execution_count": null,
   "metadata": {},
   "outputs": [],
   "source": [
    "tendencia = parabola(tiempo,a,b,c)\n",
    "plt.plot(tiempo,c02)\n",
    "plt.plot(tiempo,tendencia,lw=2)"
   ]
  },
  {
   "cell_type": "code",
   "execution_count": null,
   "metadata": {},
   "outputs": [],
   "source": [
    "plt.plot(ts - tendencia)"
   ]
  },
  {
   "cell_type": "markdown",
   "metadata": {},
   "source": [
    "### Parte 2\n",
    "\n",
    "#### Media Móvil Simple"
   ]
  },
  {
   "cell_type": "code",
   "execution_count": null,
   "metadata": {
    "collapsed": true
   },
   "outputs": [],
   "source": [
    "ts_SMA = ts.rolling(window=12).mean()"
   ]
  },
  {
   "cell_type": "code",
   "execution_count": null,
   "metadata": {},
   "outputs": [],
   "source": [
    "plt.plot(ts)\n",
    "plt.plot(ts_SMA,\"-\",color=\"red\",lw=2)\n",
    "plt.ylabel(\"Concentración de CO2 en Mauna Loa (ppm)\")"
   ]
  },
  {
   "cell_type": "code",
   "execution_count": null,
   "metadata": {
    "scrolled": true
   },
   "outputs": [],
   "source": [
    "ts_dif = ts - ts_SMA\n",
    "plt.plot(ts_dif)"
   ]
  },
  {
   "cell_type": "markdown",
   "metadata": {},
   "source": [
    "#### Probando con diferentes longitudes de suavizado"
   ]
  },
  {
   "cell_type": "code",
   "execution_count": null,
   "metadata": {},
   "outputs": [],
   "source": [
    "ts_SMA2 = ts.rolling(window=6).mean()\n",
    "plt.plot(ts[1970:2000])\n",
    "plt.plot(ts_SMA2[1970:2000],color=\"red\")"
   ]
  },
  {
   "cell_type": "code",
   "execution_count": null,
   "metadata": {},
   "outputs": [],
   "source": [
    "ts_SMA2 = ts.rolling(window=48).mean()\n",
    "plt.plot(ts[1970:2000])\n",
    "plt.plot(ts_SMA2[1970:2000],color=\"red\")"
   ]
  },
  {
   "cell_type": "code",
   "execution_count": null,
   "metadata": {},
   "outputs": [],
   "source": [
    "ts_SMA2 = ts.rolling(window=120).mean()\n",
    "plt.plot(ts)\n",
    "plt.plot(ts_SMA2,color=\"red\")"
   ]
  },
  {
   "cell_type": "markdown",
   "metadata": {},
   "source": [
    "#### Ajuste de la estacionalidad "
   ]
  },
  {
   "cell_type": "code",
   "execution_count": null,
   "metadata": {},
   "outputs": [],
   "source": [
    "def estaciones(x, a, b, c, d):\n",
    "    return a*np.cos(b*x + c) + d"
   ]
  },
  {
   "cell_type": "code",
   "execution_count": null,
   "metadata": {
    "collapsed": true
   },
   "outputs": [],
   "source": [
    "ts_dif.dropna(inplace=True)\n",
    "tiempo_dif = np.asarray(ts_dif.index)\n",
    "CO2_dif = np.asarray(ts_dif.data)"
   ]
  },
  {
   "cell_type": "code",
   "execution_count": null,
   "metadata": {},
   "outputs": [],
   "source": [
    "popt, pcov = curve_fit(estaciones, tiempo_dif, CO2_dif)\n",
    "modelo_estaciones = estaciones(tiempo, *popt)   # sintaxis exótica: automáticamente \"des-compacta\" los argumentos"
   ]
  },
  {
   "cell_type": "code",
   "execution_count": null,
   "metadata": {},
   "outputs": [],
   "source": [
    "plt.plot(ts_dif)\n",
    "plt.plot(tiempo, modelo_estaciones)"
   ]
  },
  {
   "cell_type": "code",
   "execution_count": null,
   "metadata": {},
   "outputs": [],
   "source": [
    "popt, pcov = curve_fit(estaciones, tiempo_dif, CO2_dif, p0=(3,2*np.pi,0,0))\n",
    "modelo_estaciones = estaciones(tiempo, *popt)\n",
    "plt.plot(ts_dif)\n",
    "plt.plot(tiempo, modelo_estaciones)"
   ]
  },
  {
   "cell_type": "markdown",
   "metadata": {},
   "source": [
    "#### Modelo con ambas componentes"
   ]
  },
  {
   "cell_type": "code",
   "execution_count": null,
   "metadata": {},
   "outputs": [],
   "source": [
    "plt.plot(ts)\n",
    "modelo = tendencia + modelo_estaciones\n",
    "plt.plot(tiempo,modelo)"
   ]
  },
  {
   "cell_type": "markdown",
   "metadata": {},
   "source": [
    "#### Promedio móvil exponencial"
   ]
  },
  {
   "cell_type": "code",
   "execution_count": null,
   "metadata": {},
   "outputs": [],
   "source": [
    "ts_EWM = ts.ewm(adjust=False,alpha=0.1).mean()\n",
    "plt.plot(ts[1970:2000])\n",
    "plt.plot(ts_EWM[1970:2000],color=\"red\")"
   ]
  },
  {
   "cell_type": "code",
   "execution_count": null,
   "metadata": {},
   "outputs": [],
   "source": [
    "ts_EWM = ts.ewm(adjust=False,alpha=0.5).mean()\n",
    "plt.plot(ts[1970:2000])\n",
    "plt.plot(ts_EWM[1970:2000],color=\"red\")"
   ]
  }
 ],
 "metadata": {
  "anaconda-cloud": {},
  "kernelspec": {
   "display_name": "Python 3",
   "language": "python",
   "name": "python3"
  },
  "language_info": {
   "codemirror_mode": {
    "name": "ipython",
    "version": 3
   },
   "file_extension": ".py",
   "mimetype": "text/x-python",
   "name": "python",
   "nbconvert_exporter": "python",
   "pygments_lexer": "ipython3",
   "version": "3.7.4"
  }
 },
 "nbformat": 4,
 "nbformat_minor": 1
}
