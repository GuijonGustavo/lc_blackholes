{
 "cells": [
  {
   "cell_type": "markdown",
   "metadata": {},
   "source": [
    "# Análisis de series de tiempo con la transformada de Fourier"
   ]
  },
  {
   "cell_type": "code",
   "execution_count": null,
   "metadata": {
    "collapsed": true
   },
   "outputs": [],
   "source": [
    "import numpy as np\n",
    "from math import pi\n",
    "from numpy.fft import fft, fftfreq, rfft, rfftfreq\n",
    "import matplotlib.pyplot as plt\n",
    "% matplotlib inline\n",
    "from matplotlib.pylab import rcParams\n",
    "rcParams['font.size'] = 16"
   ]
  },
  {
   "cell_type": "markdown",
   "metadata": {},
   "source": [
    "## Parte 1: la transformada (discreta) de Fourier"
   ]
  },
  {
   "cell_type": "markdown",
   "metadata": {},
   "source": [
    "Primero, creemos una serie de tiempo muy simple: un seno de amplitud 1 y periodo 1.\n",
    "\n",
    "Como el coseno es una función continua, creamos una serie *muestreando* la función 1000 veces entre t=0 y t=10 (pensemos que son segundos):"
   ]
  },
  {
   "cell_type": "code",
   "execution_count": null,
   "metadata": {
    "collapsed": false
   },
   "outputs": [],
   "source": [
    "tiempo = np.linspace(0,10,1000)   # linspace(0,10,1000) crea 1000 valores entre 0 y 10\n",
    "amplitud = 1\n",
    "periodo = 1\n",
    "serie = amplitud * np.sin(2*pi*tiempo/periodo)\n",
    "plt.plot(tiempo,serie,\"-\")\n",
    "plt.xlabel(\"Tiempo (segundos)\")\n",
    "plt.ylabel(\"Amplitud\")"
   ]
  },
  {
   "cell_type": "markdown",
   "metadata": {},
   "source": [
    "Su transformada (discreta) de Fourier se obtiene usando la función fft de numpy.fft:"
   ]
  },
  {
   "cell_type": "code",
   "execution_count": null,
   "metadata": {
    "collapsed": false
   },
   "outputs": [],
   "source": [
    "transf = fft(serie)\n",
    "transf[:10]"
   ]
  },
  {
   "cell_type": "markdown",
   "metadata": {},
   "source": [
    "Lo primero que hay que notar es que el resultado contiene valores **complejos**. Esto es normal y viene de la definición del DFT. Para graficar, podemos tomar el valor absoluto complejo usando np.abs:"
   ]
  },
  {
   "cell_type": "code",
   "execution_count": null,
   "metadata": {
    "collapsed": false
   },
   "outputs": [],
   "source": [
    "transf = np.abs(transf)\n",
    "plt.plot(transf,'-o')"
   ]
  },
  {
   "cell_type": "markdown",
   "metadata": {},
   "source": [
    "Vemos que el DFT es prácticamente cero en todas partes excepto en un valor al principio, y uno al final. Hagamos un zoom al principio:"
   ]
  },
  {
   "cell_type": "code",
   "execution_count": null,
   "metadata": {
    "collapsed": false
   },
   "outputs": [],
   "source": [
    "plt.plot(transf[:20],\"-o\")"
   ]
  },
  {
   "cell_type": "markdown",
   "metadata": {},
   "source": [
    "Los valores de casi todas las frecuencias son cero, excepto para el valor 10. ¿Qué quiere decir este 10? Por default, el DFT mide las periodicidades según el *número de veces que se repite en el intervalo de tiempo dado*. En este caso, el DFT nos dice que existe una muy fuerte periodicidad que se repite 10 veces en el intervalo de 10 segundos. Esto es una pecularidad computacional del DFT de numpy.\n",
    "\n",
    "Para convertir esto a frecuencia, existe una función fftfreq() quehace justo eso. Se le daba proporcionar:\n",
    "- el número de valores de la serie (usando len(serie)); en este caso son 1000;\n",
    "- el intervalo de muestreo (i.e. cuántas unidades de tiempo transcurren entre cada dato de la serie) usando el argumento opcional **d**; en este caso, tenemos 1000 valores en 10 segundos, por lo que el intervalo de muestreo es 0.01 segundos. \n",
    "\n",
    "Hacer esto es muy importante para interpretar correctamente la frecuencia."
   ]
  },
  {
   "cell_type": "code",
   "execution_count": null,
   "metadata": {
    "collapsed": false
   },
   "outputs": [],
   "source": [
    "freqs = fftfreq(len(serie), d=0.01)"
   ]
  },
  {
   "cell_type": "markdown",
   "metadata": {},
   "source": [
    "Podemos ahora así graficar con el eje x expresado correctamente como una frecuencia (en ciclos/segundo):"
   ]
  },
  {
   "cell_type": "code",
   "execution_count": null,
   "metadata": {
    "collapsed": false
   },
   "outputs": [],
   "source": [
    "plt.plot(freqs[0:20], transf[0:20], '-o')\n",
    "plt.xlabel(\"Frecuencia (ciclos/segundo)\")\n",
    "plt.ylabel(\"Amplitud\")"
   ]
  },
  {
   "cell_type": "markdown",
   "metadata": {},
   "source": [
    "Queda ahora claro que el DFT dice que la serie contiene una sola periocidad (y nada más) de 1 ciclo/segundo."
   ]
  },
  {
   "cell_type": "markdown",
   "metadata": {},
   "source": [
    "¿Pero qué quiere decir la *otra* periodicidad, la que está al final? Grafiquemos el final de la serie:"
   ]
  },
  {
   "cell_type": "code",
   "execution_count": null,
   "metadata": {
    "collapsed": false
   },
   "outputs": [],
   "source": [
    "plt.plot(freqs[-20:], transf[-20:], '-o')\n",
    "plt.xlabel(\"Frecuencia (ciclos/segundo)\")\n",
    "plt.ylabel(\"Amplitud\")"
   ]
  },
  {
   "cell_type": "markdown",
   "metadata": {},
   "source": [
    "¡Las frecuencias al final son negativas!\n",
    "\n",
    "Esto no tiene realmente significado físico, y viene simplemente de la forma en que se define el DFT como una transformación *compleja*.\n",
    "\n",
    "Además, debido a las propiedades matemáticas del DFT, cuando la señal contiene sólo valores *reales* --como ocurre siempre cuando tenemos una serie de tiempo del mundo real--, los valores del DFT de las frecuencias negativas son un **espejo** de los valores de la parte positiva. Por tanto no aportan información adicional y son redundantes.\n",
    "\n",
    "Podemos verificar esto último graficando los primeros 500 valores, y los últimos 500 valores con el eje x \"espejado\":"
   ]
  },
  {
   "cell_type": "code",
   "execution_count": null,
   "metadata": {
    "collapsed": false
   },
   "outputs": [],
   "source": [
    "plt.figure(figsize=(16,4))\n",
    "plt.subplot(121)\n",
    "plt.plot(freqs[:500], transf[:500], '-o')\n",
    "plt.subplot(122)\n",
    "plt.plot(freqs[500:], transf[500:], '-o')\n",
    "plt.gca().invert_xaxis()"
   ]
  },
  {
   "cell_type": "markdown",
   "metadata": {},
   "source": [
    "¡Idénticas!\n",
    "\n",
    "Debido a esta peculiaridad matemática podemos entonces simplemente descartar la mitad del DFT (la que corresponde a las frecuencias negativas), siempre y cuando la serie tenga sólo valores reales (en nuestro caso, siempre).\n",
    "\n",
    "Numpy tiene versiones de fft() y fftfreq() que hacen esto automáticamente: **r**fft() y **r**fftfreq():"
   ]
  },
  {
   "cell_type": "code",
   "execution_count": null,
   "metadata": {
    "collapsed": false
   },
   "outputs": [],
   "source": [
    "transf = np.abs(rfft(serie))\n",
    "freqs = rfftfreq(len(serie),d=0.01)\n",
    "plt.plot(freqs,transf,'o-')"
   ]
  },
  {
   "cell_type": "markdown",
   "metadata": {},
   "source": [
    "De ahora en adelante usaremos siempre estas dos funciones.\n",
    "\n",
    "El último detalle está en las unidades del eje vertical. Por cómo se define en numpy, resulta que debemos dividir el resultado del DFT por (N/2), donde N es el número de datos. Con esto las unidades de amplitud del DFT son las mismas que las de la serie original:"
   ]
  },
  {
   "cell_type": "code",
   "execution_count": null,
   "metadata": {
    "collapsed": false
   },
   "outputs": [],
   "source": [
    "transf = np.abs(rfft(serie)/(len(serie)/2))\n",
    "freqs = rfftfreq(len(serie),d=0.01)\n",
    "plt.plot(freqs,transf,'o-')"
   ]
  },
  {
   "cell_type": "markdown",
   "metadata": {},
   "source": [
    "#### Y bueno, ¿para qué sirve todo esto en series de tiempo?"
   ]
  },
  {
   "cell_type": "markdown",
   "metadata": {},
   "source": [
    "Consideremos la siguiente \"serie de tiempo\" artificial:"
   ]
  },
  {
   "cell_type": "code",
   "execution_count": null,
   "metadata": {
    "collapsed": false
   },
   "outputs": [],
   "source": [
    "tiempo = np.linspace(0,10,1000)   # linspace(0,10,1000) crea 1000 valores entre 0 y 10\n",
    "serie = 10*np.sin(2*pi*tiempo*0.2) + 2*np.sin(2*pi*tiempo*2) + np.sin(2*pi*tiempo*5)\n",
    "plt.figure(figsize=(15,4))\n",
    "plt.plot(tiempo,serie,\"-\")\n",
    "plt.xlabel(\"Tiempo (segundos)\")\n",
    "plt.ylabel(\"Amplitud\")"
   ]
  },
  {
   "cell_type": "markdown",
   "metadata": {},
   "source": [
    "Algo compleja, ¿no? La gran utilidad del DFT es que nos permite extraer directamente estas periodicidades:"
   ]
  },
  {
   "cell_type": "code",
   "execution_count": null,
   "metadata": {
    "collapsed": false
   },
   "outputs": [],
   "source": [
    "transf = np.abs(rfft(serie))/(len(serie)/2)\n",
    "freqs = rfftfreq(len(serie),d=0.01)\n",
    "plt.figure(figsize=(15,4))\n",
    "plt.plot(freqs[0:60],transf[0:60],'o-')\n",
    "plt.xlabel(\"Frecuencia (Hz)\")\n",
    "plt.ylabel(\"Amplitud\")"
   ]
  },
  {
   "cell_type": "markdown",
   "metadata": {},
   "source": [
    "El DFT reconoce limpiamente que la serie está compuesta por 3 componentes periódicas:\n",
    "- Una componente lenta de frecuencia 0.2 Hz y amplitud 10\n",
    "- Una componente rápida de frecuencia 2 Hz y amplitud 2\n",
    "- Una componente muy rápida de frecuencia 5 Hz y amplitud 1\n",
    "\n",
    "Si se revisa con cuidado la manera en que se definió la serie arriba, se verá que esto es exactamente correcto."
   ]
  },
  {
   "cell_type": "markdown",
   "metadata": {},
   "source": [
    "## Partes 2: Artefactos de la transformada de Fourier\n",
    "\n",
    "Como herramienta matemática la transformada de Fourier tiene varios defectos que deben entenderse para poder interpretarla correctamente."
   ]
  },
  {
   "cell_type": "markdown",
   "metadata": {},
   "source": [
    "### Filtrado espectral\n",
    "\n",
    "Si una periodicidad no completa un número entero de ciclos, esto ensancha artificialmente el pico en frecuencia correspondiente."
   ]
  },
  {
   "cell_type": "code",
   "execution_count": null,
   "metadata": {
    "collapsed": false
   },
   "outputs": [],
   "source": [
    "tiempo = np.linspace(0,10,1000)   # linspace(0,10,1000) crea 1000 valores entre 0 y 10\n",
    "serie = np.sin(2*pi*tiempo*0.33)\n",
    "plt.figure(figsize=(15,10))\n",
    "plt.subplot(211)\n",
    "plt.plot(tiempo,serie,\"-\")\n",
    "plt.xlabel(\"Tiempo (segundos)\")\n",
    "plt.ylabel(\"Amplitud\")\n",
    "psd = np.abs(rfft(serie))**2\n",
    "freqs = rfftfreq(len(serie),d=0.01)\n",
    "plt.subplot(212)\n",
    "plt.loglog(freqs,psd,'o-')\n",
    "plt.xlabel(\"Frecuencia (Hz)\")\n",
    "plt.ylabel(\"Amplitud\")"
   ]
  },
  {
   "cell_type": "markdown",
   "metadata": {},
   "source": [
    "Esto también ocurre si la serie tiene una componente periódica que no es estacionaria, por ejemplo porque su amplitud cambia con el tiempo:"
   ]
  },
  {
   "cell_type": "code",
   "execution_count": null,
   "metadata": {
    "collapsed": false
   },
   "outputs": [],
   "source": [
    "tiempo = np.linspace(0,10,1000)\n",
    "serie = tiempo*np.sin(2*pi*tiempo)\n",
    "plt.figure(figsize=(15,10))\n",
    "plt.subplot(211)\n",
    "plt.plot(tiempo,serie,\"-\")\n",
    "plt.xlabel(\"Tiempo (segundos)\")\n",
    "plt.ylabel(\"Amplitud\")\n",
    "psd = np.abs(rfft(serie))**2\n",
    "freqs = rfftfreq(len(serie),d=0.01)\n",
    "plt.subplot(212)\n",
    "plt.loglog(freqs,psd,'o-')\n",
    "plt.xlabel(\"Frecuencia (Hz)\")\n",
    "plt.ylabel(\"Amplitud\")"
   ]
  },
  {
   "cell_type": "markdown",
   "metadata": {},
   "source": [
    "### Armónicos"
   ]
  },
  {
   "cell_type": "markdown",
   "metadata": {},
   "source": [
    "Si la periodicidad no es una función sinusoidal, esto introduce **armónicos** en el PSD.\n",
    "\n",
    "Esta es una función de \"sierra\" (sawtooth) periódica con frecuencia de 1 Hz."
   ]
  },
  {
   "cell_type": "code",
   "execution_count": null,
   "metadata": {
    "collapsed": false
   },
   "outputs": [],
   "source": [
    "from scipy import signal\n",
    "tiempo = np.linspace(0, 1, 1000)\n",
    "serie = signal.sawtooth(2*pi*10*tiempo)\n",
    "psd = np.abs(rfft(serie))**2\n",
    "freqs = rfftfreq(len(serie),d=0.01)\n",
    "plt.figure(figsize=(15,10))\n",
    "plt.subplot(211)\n",
    "plt.plot(tiempo, serie)\n",
    "plt.xlabel(\"Tiempo (s)\")\n",
    "plt.ylabel(\"Amplitud\")\n",
    "plt.subplot(212)\n",
    "plt.loglog(freqs,psd,'o-')\n",
    "plt.xlabel(\"Frecuencia (Hz)\")\n",
    "plt.ylabel(\"Amplitud\")\n",
    "plt.savefig(\"sawtooth.svg\")"
   ]
  }
 ],
 "metadata": {
  "anaconda-cloud": {},
  "kernelspec": {
   "display_name": "Python [Root]",
   "language": "python",
   "name": "Python [Root]"
  },
  "language_info": {
   "codemirror_mode": {
    "name": "ipython",
    "version": 3
   },
   "file_extension": ".py",
   "mimetype": "text/x-python",
   "name": "python",
   "nbconvert_exporter": "python",
   "pygments_lexer": "ipython3",
   "version": "3.5.2"
  }
 },
 "nbformat": 4,
 "nbformat_minor": 0
}
