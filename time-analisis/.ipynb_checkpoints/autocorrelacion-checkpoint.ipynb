{
 "cells": [
  {
   "cell_type": "markdown",
   "metadata": {},
   "source": [
    "## FRB 180916.J0158 + 65: Autocorrelación"
   ]
  },
  {
   "cell_type": "code",
   "execution_count": 5,
   "metadata": {},
   "outputs": [],
   "source": [
    "import pandas as pd\n",
    "import numpy as np\n",
    "import matplotlib.pylab as plt\n",
    "%matplotlib inline\n",
    "from matplotlib.pylab import rcParams\n",
    "rcParams['figure.figsize'] = 12, 14"
   ]
  },
  {
   "cell_type": "code",
   "execution_count": 2,
   "metadata": {},
   "outputs": [
    {
     "data": {
      "text/plain": [
       "Index(['flux', 'err'], dtype='object')"
      ]
     },
     "execution_count": 2,
     "metadata": {},
     "output_type": "execute_result"
    }
   ],
   "source": [
    "data_crudos = pd.read_csv(\"/home/wattie/frb/conteo.csv\", index_col='mjd')\n",
    "df = data_crudos.dropna()\n",
    "df.columns"
   ]
  },
  {
   "cell_type": "code",
   "execution_count": 3,
   "metadata": {},
   "outputs": [
    {
     "data": {
      "text/plain": [
       "mjd\n",
       "58384.656539    7.474790e-07\n",
       "58385.656551    1.501550e-08\n",
       "58386.656563    3.139770e-08\n",
       "58387.656574    2.708430e-11\n",
       "58388.656586    2.574390e-11\n",
       "Name: flux, dtype: float64"
      ]
     },
     "execution_count": 3,
     "metadata": {},
     "output_type": "execute_result"
    }
   ],
   "source": [
    "ts = df[\"flux\"]\n",
    "ts.head()"
   ]
  },
  {
   "cell_type": "code",
   "execution_count": null,
   "metadata": {},
   "outputs": [
    {
     "data": {
      "text/plain": [
       "Text(0, 0.5, 'Flux')"
      ]
     },
     "execution_count": 6,
     "metadata": {},
     "output_type": "execute_result"
    }
   ],
   "source": [
    "plt.plot(ts)\n",
    "plt.ylabel(\"Flux\")"
   ]
  },
  {
   "cell_type": "markdown",
   "metadata": {},
   "source": [
    "### Autocorrelación"
   ]
  },
  {
   "cell_type": "code",
   "execution_count": null,
   "metadata": {},
   "outputs": [],
   "source": [
    "from statsmodels.tsa.stattools import acf, pacf \n",
    "ts_acf = acf(ts, nlags=100)"
   ]
  },
  {
   "cell_type": "code",
   "execution_count": null,
   "metadata": {
    "scrolled": false
   },
   "outputs": [],
   "source": [
    "plt.plot(ts_acf,\"o-\")\n",
    "ymin,ymax = plt.gca().get_ylim()\n",
    "plt.plot([24,24],[ymin,ymax],\"--\",color=\"black\")\n",
    "plt.plot([48,48],[ymin,ymax],\"--\",color=\"black\")\n",
    "plt.plot([72,72],[ymin,ymax],\"--\",color=\"black\")\n",
    "plt.plot([96,96],[ymin,ymax],\"--\",color=\"black\")\n",
    "plt.xlabel(\"Retraso (horas)\")\n",
    "plt.ylabel(\"Autocorrelación\")"
   ]
  },
  {
   "cell_type": "code",
   "execution_count": null,
   "metadata": {
    "collapsed": true
   },
   "outputs": [],
   "source": [
    "ts_pacf = pacf(ts, nlags=80, method='ols')"
   ]
  },
  {
   "cell_type": "code",
   "execution_count": null,
   "metadata": {},
   "outputs": [],
   "source": [
    "plt.plot(ts_pacf,\"o-\")\n",
    "ymin,ymax = plt.gca().get_ylim()\n",
    "plt.plot([24,24],[ymin,ymax],\"--\",color=\"black\")\n",
    "plt.plot([48,48],[ymin,ymax],\"--\",color=\"black\")\n",
    "plt.plot([72,72],[ymin,ymax],\"--\",color=\"black\")\n",
    "plt.xlabel(\"Retraso (horas)\")\n",
    "plt.ylabel(\"Autocorrelación\")"
   ]
  },
  {
   "cell_type": "markdown",
   "metadata": {},
   "source": [
    "Comparar con la ACF y PACF de una serie de tiempo aleatoria:"
   ]
  },
  {
   "cell_type": "code",
   "execution_count": null,
   "metadata": {},
   "outputs": [],
   "source": [
    "random_ts = pd.Series(np.random.randn(500))\n",
    "plt.subplot(311)\n",
    "plt.plot(random_ts)\n",
    "plt.subplot(312)\n",
    "plt.plot(acf(random_ts,nlags=50),\"o-\")\n",
    "plt.subplot(313)\n",
    "plt.plot(pacf(random_ts,nlags=50),\"o-\")"
   ]
  }
 ],
 "metadata": {
  "anaconda-cloud": {},
  "kernelspec": {
   "display_name": "Python 3",
   "language": "python",
   "name": "python3"
  },
  "language_info": {
   "codemirror_mode": {
    "name": "ipython",
    "version": 3
   },
   "file_extension": ".py",
   "mimetype": "text/x-python",
   "name": "python",
   "nbconvert_exporter": "python",
   "pygments_lexer": "ipython3",
   "version": "3.7.4"
  }
 },
 "nbformat": 4,
 "nbformat_minor": 1
}
