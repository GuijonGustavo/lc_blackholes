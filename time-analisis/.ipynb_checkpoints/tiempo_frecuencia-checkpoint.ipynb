{
 "cells": [
  {
   "cell_type": "markdown",
   "metadata": {},
   "source": [
    "# Análisis tiempo-frecuencia\n",
    "\n",
    "Si el contenido espectral de una serie de tiempo no es estacionario, la transformada de Fourier tiene problemas para descomponerla. En este caso conviene usar herramientas que hacen el análisis simultáneamente en el dominio del tiempo y en el de la frecuencia."
   ]
  },
  {
   "cell_type": "code",
   "execution_count": null,
   "metadata": {
    "collapsed": false
   },
   "outputs": [],
   "source": [
    "import numpy as np\n",
    "from math import pi\n",
    "from numpy.fft import fft, fftfreq, rfft, rfftfreq\n",
    "from scipy import signal\n",
    "import matplotlib.pyplot as plt\n",
    "% matplotlib inline\n",
    "from matplotlib.pylab import rcParams\n",
    "rcParams['font.size'] = 16\n",
    "rcParams['figure.figsize'] = 16,4"
   ]
  },
  {
   "cell_type": "markdown",
   "metadata": {},
   "source": [
    "En el siguiente ejemplo calculamos el espectro de una serie periódica cuya frecuencia cambia súbitamente de 1 Hz a 3 Hz."
   ]
  },
  {
   "cell_type": "code",
   "execution_count": null,
   "metadata": {
    "collapsed": false
   },
   "outputs": [],
   "source": [
    "tiempo = np.linspace(0,10,1000)\n",
    "serie = np.concatenate([np.sin(2*pi*tiempo)[:500], np.sin(2*pi*tiempo*3)[:500]])\n",
    "plt.plot(tiempo,serie)\n",
    "plt.xlabel(\"Tiempo (s)\")\n",
    "plt.ylabel(\"Amplitud\")"
   ]
  },
  {
   "cell_type": "markdown",
   "metadata": {},
   "source": [
    "Aunque las dos frecuencias (1 y 3 Hz) son las dominantes, existe mucha estructura espuria alrededor:"
   ]
  },
  {
   "cell_type": "code",
   "execution_count": null,
   "metadata": {
    "collapsed": false
   },
   "outputs": [],
   "source": [
    "psd = np.abs(rfft(serie))**2\n",
    "freqs = rfftfreq(len(serie),d=0.01)\n",
    "plt.loglog(freqs,psd,\"o-\")\n",
    "plt.axvline(1,linestyle=\"--\",color=\"k\")\n",
    "plt.axvline(3,linestyle=\"--\",color=\"k\")\n",
    "plt.xlabel(\"Frecuencia (Hz)\")\n",
    "plt.ylabel(\"PSD\")"
   ]
  },
  {
   "cell_type": "markdown",
   "metadata": {},
   "source": [
    "Otro ejemplo clásico es el \"chirp\", una señal cuya frecuencia aumenta con el tiempo (en este caso de 1 a 3 Hz):"
   ]
  },
  {
   "cell_type": "code",
   "execution_count": null,
   "metadata": {
    "collapsed": false
   },
   "outputs": [],
   "source": [
    "tiempo = np.linspace(0,10,1000)\n",
    "frecuencia = 1 + tiempo*2/10\n",
    "plt.figure()\n",
    "plt.plot(tiempo,frecuencia)\n",
    "plt.xlabel(\"Tiempo (s)\")\n",
    "plt.ylabel(\"Frecuencia instantánea (Hz)\")\n",
    "plt.figure()\n",
    "serie = np.sin(2*pi*tiempo*frecuencia)\n",
    "plt.plot(tiempo,serie)\n",
    "plt.xlabel(\"Tiempo (s)\")\n",
    "plt.ylabel(\"Amplitud\")"
   ]
  },
  {
   "cell_type": "markdown",
   "metadata": {},
   "source": [
    "Aunque la frecuencia instantánea de la serie va desde 1 Hz hasta 3 Hz, el PSD contiene potencia en otras frecuencias espurias fuera de este rango"
   ]
  },
  {
   "cell_type": "code",
   "execution_count": null,
   "metadata": {
    "collapsed": false
   },
   "outputs": [],
   "source": [
    "psd = np.abs(rfft(serie))**2\n",
    "freqs = rfftfreq(len(serie),d=0.01)\n",
    "plt.loglog(freqs,psd,\"o-\")\n",
    "plt.axvline(1,linestyle=\"--\",color=\"k\")\n",
    "plt.axvline(3,linestyle=\"--\",color=\"k\")\n",
    "plt.xlabel(\"Frecuencia (Hz)\")\n",
    "plt.ylabel(\"PSD\")"
   ]
  },
  {
   "cell_type": "markdown",
   "metadata": {},
   "source": [
    "### Transformada de Fourier ventaneada"
   ]
  },
  {
   "cell_type": "markdown",
   "metadata": {},
   "source": [
    "Una forma de lidiar con series no-estacionarias es hacer el análisis en tiempo y frecuencia simultáneamente.\n",
    "\n",
    "Una técnica sencilla es usar la **transformada de Fourier \"ventaneada\"** o **Short-Time-Fourier-Transform (STFT**): calculamos la transformada de Fourier en una ventana temporal pequeña la cual se va recorriendo sobre la serie. Con esto se puede capturar un contenido espectral que cambia con el tiempo.\n",
    "\n",
    "La función scipy.signal.spectrogram() permite el cálculo automático de este tipo de transformada tiempo-frecuencia; la forma de la ventana se puede seleccionar mediante el argumento 'window'.\n",
    "\n",
    "Hagamos esto con un chirp que aumenta de 1000 Hz a 5000 Hz en 10 segundos:"
   ]
  },
  {
   "cell_type": "code",
   "execution_count": null,
   "metadata": {
    "collapsed": false
   },
   "outputs": [],
   "source": [
    "fs = 10e3\n",
    "N = 1e5\n",
    "tiempo = np.arange(N) / fs\n",
    "frecuencia = np.linspace(1e3, 3e3, N)\n",
    "serie = np.sin(2*pi*frecuencia*tiempo)\n",
    "f, t, Sxx = signal.spectrogram(serie, fs)\n",
    "plt.figure(figsize=(16,8))\n",
    "plt.pcolormesh(t, f, Sxx, cmap=\"Oranges\")\n",
    "plt.ylabel('Frecuencia (Hz)')\n",
    "plt.xlabel('Tiempo (s)')"
   ]
  },
  {
   "cell_type": "markdown",
   "metadata": {},
   "source": [
    "### Transformada de wavelet"
   ]
  },
  {
   "cell_type": "markdown",
   "metadata": {},
   "source": [
    "Otra herramienta relacionada de análisis de tiempo-frecuencia son las transformadas de **wavelets**.\n",
    "\n",
    "Es una generalización de la transformada de Fourier: en lugar de usar funciones armónicas se usan “wavelets”: formas de onda arbitraria que pueden cambiar de escala temporal. Esto permite hacer una reconstrucción en tiempo-frecuencia con mejor resolución que la transformada de Fourier ventaneada (la wavelet es una ventana deformable).\n",
    "\n",
    "En el siguiente ejemplo sumamos un coseno (primer panel) y un pulso gaussiano (segundo panel), y de la serie combinada (tercer panel) calculamos la transformada de wavelet (cuarto panel) usando signal.cwt."
   ]
  },
  {
   "cell_type": "code",
   "execution_count": null,
   "metadata": {
    "collapsed": false
   },
   "outputs": [],
   "source": [
    "t = np.linspace(-1, 1, 200, endpoint=False)\n",
    "sig1 = np.cos(2 * np.pi * 7 * t)\n",
    "sig2 = signal.gausspulse(t - 0.4, fc=2)\n",
    "sig3 = sig1 + sig2\n",
    "widths = np.arange(1, 31)\n",
    "cwtmatr = signal.cwt(sig3, signal.ricker, widths)\n",
    "plt.figure(figsize=(16,8))\n",
    "plt.subplot(411)\n",
    "plt.plot(t,sig1)\n",
    "plt.subplot(412)\n",
    "plt.plot(t,sig2)\n",
    "plt.subplot(413)\n",
    "plt.plot(t,sig3,\"r\")\n",
    "plt.subplot(414)\n",
    "plt.imshow(cwtmatr, cmap='PRGn', aspect='auto', vmax=abs(cwtmatr).max(), vmin=-abs(cwtmatr).max())"
   ]
  }
 ],
 "metadata": {
  "anaconda-cloud": {},
  "kernelspec": {
   "display_name": "Python [Root]",
   "language": "python",
   "name": "Python [Root]"
  },
  "language_info": {
   "codemirror_mode": {
    "name": "ipython",
    "version": 3
   },
   "file_extension": ".py",
   "mimetype": "text/x-python",
   "name": "python",
   "nbconvert_exporter": "python",
   "pygments_lexer": "ipython3",
   "version": "3.5.2"
  }
 },
 "nbformat": 4,
 "nbformat_minor": 0
}
