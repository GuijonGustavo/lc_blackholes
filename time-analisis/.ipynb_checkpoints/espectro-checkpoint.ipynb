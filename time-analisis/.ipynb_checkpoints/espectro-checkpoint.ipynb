{
 "cells": [
  {
   "cell_type": "markdown",
   "metadata": {},
   "source": [
    "# FRB 180916.J0158 + 65: Espectro"
   ]
  },
  {
   "cell_type": "markdown",
   "metadata": {},
   "source": [
    "El archivo de datos sunspots.dat contiene el conteo histórico de manchas solares desde 1850 hasta 2015."
   ]
  },
  {
   "cell_type": "code",
   "execution_count": 1,
   "metadata": {},
   "outputs": [],
   "source": [
    "import numpy as np\n",
    "import pandas as pd\n",
    "from math import pi\n",
    "from numpy.fft import fft, fftfreq, rfft, rfftfreq\n",
    "from scipy import signal\n",
    "import matplotlib.pyplot as plt\n",
    "%matplotlib inline\n",
    "from matplotlib.pylab import rcParams\n",
    "rcParams['font.size'] = 16\n",
    "rcParams['figure.figsize'] = 15,12"
   ]
  },
  {
   "cell_type": "code",
   "execution_count": 2,
   "metadata": {},
   "outputs": [],
   "source": [
    "data_crudos = pd.read_csv(\"/home/wattie/frb/conteo.csv\", index_col='mjd')\n",
    "serie = data_crudos.dropna()\n",
    "df = pd.DataFrame(serie)"
   ]
  },
  {
   "cell_type": "code",
   "execution_count": null,
   "metadata": {},
   "outputs": [],
   "source": [
    "plt.plot(tiempo,manchas)\n",
    "#plt.xlim(tiempo.min(),tiempo.max())\n",
    "plt.xlabel(\"Año\")\n",
    "plt.ylabel(\"Conteo de manchas solares\")"
   ]
  },
  {
   "cell_type": "code",
   "execution_count": null,
   "metadata": {},
   "outputs": [],
   "source": [
    "psd = np.abs(np.fft.rfft(manchas))**2\n",
    "freqs = np.fft.rfftfreq(len(manchas))\n",
    "plt.loglog(freqs,psd,'-')\n",
    "plt.xlim(min(freqs), max(freqs))\n",
    "plt.xlabel(\"Frecuencia (1/día)\")\n",
    "plt.ylabel(\"PSD\")"
   ]
  },
  {
   "cell_type": "code",
   "execution_count": null,
   "metadata": {},
   "outputs": [],
   "source": [
    "psd = np.abs(np.fft.rfft(manchas))**2\n",
    "freqs = np.fft.rfftfreq(len(manchas))\n",
    "psd = psd[1:]\n",
    "freqs = freqs[1:]\n",
    "periodos = 1/freqs/365.25\n",
    "plt.loglog(periodos, psd, '-')\n",
    "plt.axvline(11, linestyle=\"--\", color=\"black\")\n",
    "plt.xlim(min(periodos), max(periodos))\n",
    "plt.gca().invert_xaxis()\n",
    "plt.xlabel(\"Periodo (años)\")\n",
    "plt.ylabel(\"PSD\")"
   ]
  }
 ],
 "metadata": {
  "anaconda-cloud": {},
  "kernelspec": {
   "display_name": "Python 3",
   "language": "python",
   "name": "python3"
  },
  "language_info": {
   "codemirror_mode": {
    "name": "ipython",
    "version": 3
   },
   "file_extension": ".py",
   "mimetype": "text/x-python",
   "name": "python",
   "nbconvert_exporter": "python",
   "pygments_lexer": "ipython3",
   "version": "3.7.4"
  }
 },
 "nbformat": 4,
 "nbformat_minor": 1
}
