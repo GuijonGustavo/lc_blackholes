{
 "cells": [
  {
   "cell_type": "markdown",
   "metadata": {},
   "source": [
    "## Temperatura en CU en los últimos 7 días\n",
    "\n",
    "Datos tomados de: http://www.ruoa.unam.mx/Datos/unam/met/"
   ]
  },
  {
   "cell_type": "code",
   "execution_count": null,
   "metadata": {
    "collapsed": true
   },
   "outputs": [],
   "source": [
    "import pandas as pd\n",
    "import numpy as np\n",
    "import matplotlib.pylab as plt\n",
    "%matplotlib inline\n",
    "from matplotlib.pylab import rcParams\n",
    "rcParams['figure.figsize'] = 15, 6"
   ]
  },
  {
   "cell_type": "code",
   "execution_count": null,
   "metadata": {
    "collapsed": false
   },
   "outputs": [],
   "source": [
    "dateparser = lambda date: pd.datetime.strptime(date, '%Y-%m-%d %H:%M:%S')\n",
    "df = pd.read_csv(\"unam_temperatura_7dias.csv\", index_col='TIMESTAMP', date_parser=dateparser)\n",
    "df.columns"
   ]
  },
  {
   "cell_type": "code",
   "execution_count": null,
   "metadata": {
    "collapsed": false
   },
   "outputs": [],
   "source": [
    "ts = df[\"Temp_Avg\"]\n",
    "ts.head()"
   ]
  },
  {
   "cell_type": "code",
   "execution_count": null,
   "metadata": {
    "collapsed": false
   },
   "outputs": [],
   "source": [
    "plt.plot(ts)\n",
    "plt.ylabel(\"Temperatura (°C)\")"
   ]
  },
  {
   "cell_type": "markdown",
   "metadata": {},
   "source": [
    "### Autocorrelación"
   ]
  },
  {
   "cell_type": "code",
   "execution_count": null,
   "metadata": {
    "collapsed": false
   },
   "outputs": [],
   "source": [
    "from statsmodels.tsa.stattools import acf, pacf \n",
    "ts_acf = acf(ts, nlags=100)"
   ]
  },
  {
   "cell_type": "code",
   "execution_count": null,
   "metadata": {
    "collapsed": false,
    "scrolled": false
   },
   "outputs": [],
   "source": [
    "plt.plot(ts_acf,\"o-\")\n",
    "ymin,ymax = plt.gca().get_ylim()\n",
    "plt.plot([24,24],[ymin,ymax],\"--\",color=\"black\")\n",
    "plt.plot([48,48],[ymin,ymax],\"--\",color=\"black\")\n",
    "plt.plot([72,72],[ymin,ymax],\"--\",color=\"black\")\n",
    "plt.plot([96,96],[ymin,ymax],\"--\",color=\"black\")\n",
    "plt.xlabel(\"Retraso (horas)\")\n",
    "plt.ylabel(\"Autocorrelación\")"
   ]
  },
  {
   "cell_type": "code",
   "execution_count": null,
   "metadata": {
    "collapsed": true
   },
   "outputs": [],
   "source": [
    "ts_pacf = pacf(ts, nlags=80, method='ols')"
   ]
  },
  {
   "cell_type": "code",
   "execution_count": null,
   "metadata": {
    "collapsed": false
   },
   "outputs": [],
   "source": [
    "plt.plot(ts_pacf,\"o-\")\n",
    "ymin,ymax = plt.gca().get_ylim()\n",
    "plt.plot([24,24],[ymin,ymax],\"--\",color=\"black\")\n",
    "plt.plot([48,48],[ymin,ymax],\"--\",color=\"black\")\n",
    "plt.plot([72,72],[ymin,ymax],\"--\",color=\"black\")\n",
    "plt.xlabel(\"Retraso (horas)\")\n",
    "plt.ylabel(\"Autocorrelación\")"
   ]
  },
  {
   "cell_type": "markdown",
   "metadata": {},
   "source": [
    "Comparar con la ACF y PACF de una serie de tiempo aleatoria:"
   ]
  },
  {
   "cell_type": "code",
   "execution_count": null,
   "metadata": {
    "collapsed": false
   },
   "outputs": [],
   "source": [
    "random_ts = pd.Series(np.random.randn(500))\n",
    "plt.subplot(311)\n",
    "plt.plot(random_ts)\n",
    "plt.subplot(312)\n",
    "plt.plot(acf(random_ts,nlags=50),\"o-\")\n",
    "plt.subplot(313)\n",
    "plt.plot(pacf(random_ts,nlags=50),\"o-\")"
   ]
  }
 ],
 "metadata": {
  "anaconda-cloud": {},
  "kernelspec": {
   "display_name": "Python [Root]",
   "language": "python",
   "name": "Python [Root]"
  },
  "language_info": {
   "codemirror_mode": {
    "name": "ipython",
    "version": 3
   },
   "file_extension": ".py",
   "mimetype": "text/x-python",
   "name": "python",
   "nbconvert_exporter": "python",
   "pygments_lexer": "ipython3",
   "version": "3.5.2"
  }
 },
 "nbformat": 4,
 "nbformat_minor": 0
}
