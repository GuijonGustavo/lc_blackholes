{
 "cells": [
  {
   "cell_type": "markdown",
   "metadata": {},
   "source": [
    "# Espectro del Conteo Histórico de Manchas Solares\n",
    "\n",
    "http://www.esrl.noaa.gov/psd/gcos_wgsp/Timeseries/SUNSPOT/"
   ]
  },
  {
   "cell_type": "markdown",
   "metadata": {},
   "source": [
    "El archivo de datos sunspots.dat contiene el conteo histórico de manchas solares desde 1850 hasta 2015."
   ]
  },
  {
   "cell_type": "code",
   "execution_count": null,
   "metadata": {
    "collapsed": false
   },
   "outputs": [],
   "source": [
    "import numpy as np\n",
    "import matplotlib.pyplot as plt\n",
    "% matplotlib inline\n",
    "from matplotlib.pylab import rcParams\n",
    "rcParams['font.size'] = 16\n",
    "rcParams['figure.figsize'] = 16, 6"
   ]
  },
  {
   "cell_type": "code",
   "execution_count": null,
   "metadata": {
    "collapsed": false
   },
   "outputs": [],
   "source": [
    "data = np.loadtxt(\"sunspots.dat\")\n",
    "print(data)\n",
    "tiempo = data[:,0]\n",
    "manchas = data[:,1]"
   ]
  },
  {
   "cell_type": "code",
   "execution_count": null,
   "metadata": {
    "collapsed": false
   },
   "outputs": [],
   "source": [
    "plt.plot(tiempo,manchas)\n",
    "plt.xlim(tiempo.min(),tiempo.max())\n",
    "plt.xlabel(\"Año\")\n",
    "plt.ylabel(\"Conteo de manchas solares\")"
   ]
  },
  {
   "cell_type": "code",
   "execution_count": null,
   "metadata": {
    "collapsed": false
   },
   "outputs": [],
   "source": [
    "psd = np.abs(np.fft.rfft(manchas))**2\n",
    "freqs = np.fft.rfftfreq(len(manchas))\n",
    "plt.loglog(freqs,psd,'-')\n",
    "plt.xlim(min(freqs), max(freqs))\n",
    "plt.xlabel(\"Frecuencia (1/día)\")\n",
    "plt.ylabel(\"PSD\")"
   ]
  },
  {
   "cell_type": "code",
   "execution_count": null,
   "metadata": {
    "collapsed": false
   },
   "outputs": [],
   "source": [
    "psd = np.abs(np.fft.rfft(manchas))**2\n",
    "freqs = np.fft.rfftfreq(len(manchas))\n",
    "psd = psd[1:]\n",
    "freqs = freqs[1:]\n",
    "periodos = 1/freqs/365.25\n",
    "plt.loglog(periodos, psd, '-')\n",
    "plt.axvline(11, linestyle=\"--\", color=\"black\")\n",
    "plt.xlim(min(periodos), max(periodos))\n",
    "plt.gca().invert_xaxis()\n",
    "plt.xlabel(\"Periodo (años)\")\n",
    "plt.ylabel(\"PSD\")"
   ]
  }
 ],
 "metadata": {
  "anaconda-cloud": {},
  "kernelspec": {
   "display_name": "Python [Root]",
   "language": "python",
   "name": "Python [Root]"
  },
  "language_info": {
   "codemirror_mode": {
    "name": "ipython",
    "version": 3
   },
   "file_extension": ".py",
   "mimetype": "text/x-python",
   "name": "python",
   "nbconvert_exporter": "python",
   "pygments_lexer": "ipython3",
   "version": "3.5.2"
  }
 },
 "nbformat": 4,
 "nbformat_minor": 0
}
