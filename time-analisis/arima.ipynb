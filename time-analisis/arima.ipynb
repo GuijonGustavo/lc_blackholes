{
 "cells": [
  {
   "cell_type": "markdown",
   "metadata": {},
   "source": [
    "# Modelado ARIMA de series de tiempo\n",
    "Adaptado de: https://github.com/aarshayj/Analytics_Vidhya/tree/master/Articles/Time_Series_Analysis"
   ]
  },
  {
   "cell_type": "markdown",
   "metadata": {},
   "source": [
    "## Leyendo una serie de tiempo con Pandas"
   ]
  },
  {
   "cell_type": "markdown",
   "metadata": {},
   "source": [
    "#### Para ejecutar una 'celda', posicionarse sobre ella y dar CTRL+ENTER."
   ]
  },
  {
   "cell_type": "markdown",
   "metadata": {},
   "source": [
    "Primero cargamos las librerías necesarias:"
   ]
  },
  {
   "cell_type": "code",
   "execution_count": null,
   "metadata": {
    "collapsed": true
   },
   "outputs": [],
   "source": [
    "import pandas as pd\n",
    "import numpy as np\n",
    "import matplotlib.pylab as plt\n",
    "%matplotlib inline\n",
    "from matplotlib.pylab import rcParams\n",
    "rcParams['figure.figsize'] = 15, 6"
   ]
  },
  {
   "cell_type": "markdown",
   "metadata": {},
   "source": [
    "Si \"In [  ]\" se convierte en \"In [1]\", es que la celda fue ejecutada sin errores. Si tenemos errores aquí, nos falta instalar alguna librería"
   ]
  },
  {
   "cell_type": "markdown",
   "metadata": {},
   "source": [
    "Ahora cargamos los datos del archivo CSV, Monthly Airline Passenger Numbers 1949-1960:"
   ]
  },
  {
   "cell_type": "code",
   "execution_count": null,
   "metadata": {
    "collapsed": false,
    "scrolled": false
   },
   "outputs": [],
   "source": [
    "data = pd.read_csv('AirPassengers.csv')"
   ]
  },
  {
   "cell_type": "markdown",
   "metadata": {},
   "source": [
    "data.head() devuelve las primeras filas del archivo de datos"
   ]
  },
  {
   "cell_type": "code",
   "execution_count": null,
   "metadata": {
    "collapsed": false
   },
   "outputs": [],
   "source": [
    "print(data.head())"
   ]
  },
  {
   "cell_type": "markdown",
   "metadata": {},
   "source": [
    "Y podemos consultar el tipo de datos de cada columna:"
   ]
  },
  {
   "cell_type": "code",
   "execution_count": null,
   "metadata": {
    "collapsed": false
   },
   "outputs": [],
   "source": [
    "print(data.dtypes)"
   ]
  },
  {
   "cell_type": "markdown",
   "metadata": {},
   "source": [
    "Podemos volver a cargar los datos indicándole a Pandas que la primera columna contiene fechas en el formato AÑO-MES:"
   ]
  },
  {
   "cell_type": "code",
   "execution_count": null,
   "metadata": {
    "collapsed": false
   },
   "outputs": [],
   "source": [
    "dateparse = lambda dates: pd.datetime.strptime(dates, '%Y-%m')\n",
    "data = pd.read_csv('AirPassengers.csv', parse_dates=[0], index_col='Month', date_parser=dateparse)"
   ]
  },
  {
   "cell_type": "markdown",
   "metadata": {},
   "source": [
    "Ahora 'data' es un objeto \"inteligente\" de Pandas, llamado un DataFrame."
   ]
  },
  {
   "cell_type": "code",
   "execution_count": null,
   "metadata": {
    "collapsed": false
   },
   "outputs": [],
   "source": [
    "type(data)"
   ]
  },
  {
   "cell_type": "markdown",
   "metadata": {},
   "source": [
    "Un DataFrame está compuesto de columnas y un índice:"
   ]
  },
  {
   "cell_type": "code",
   "execution_count": null,
   "metadata": {
    "collapsed": false
   },
   "outputs": [],
   "source": [
    "data.columns"
   ]
  },
  {
   "cell_type": "code",
   "execution_count": null,
   "metadata": {
    "collapsed": false
   },
   "outputs": [],
   "source": [
    "data.index"
   ]
  },
  {
   "cell_type": "markdown",
   "metadata": {},
   "source": [
    "Por simplicidad, extraremos la columna 'Passengers' del DataFrame para obtener solamente la serie de tiempo:"
   ]
  },
  {
   "cell_type": "code",
   "execution_count": null,
   "metadata": {
    "collapsed": false
   },
   "outputs": [],
   "source": [
    "ts = data['Passengers']\n",
    "ts.head(10)"
   ]
  },
  {
   "cell_type": "markdown",
   "metadata": {},
   "source": [
    "'ts' es ahora un objeto de tipo Series, el cual representa una serie de tiempo:"
   ]
  },
  {
   "cell_type": "code",
   "execution_count": null,
   "metadata": {
    "collapsed": false
   },
   "outputs": [],
   "source": [
    "type(ts)"
   ]
  },
  {
   "cell_type": "markdown",
   "metadata": {},
   "source": [
    "Nótese que la serie de tiempo \"hereda\" el índice del DataFrame:"
   ]
  },
  {
   "cell_type": "code",
   "execution_count": null,
   "metadata": {
    "collapsed": false
   },
   "outputs": [],
   "source": [
    "ts.index"
   ]
  },
  {
   "cell_type": "markdown",
   "metadata": {},
   "source": [
    "### Accesando objetos de tipo Series"
   ]
  },
  {
   "cell_type": "markdown",
   "metadata": {},
   "source": [
    "Podemos accesar los valores de la serie de tiempo usando una fecha como índice:"
   ]
  },
  {
   "cell_type": "code",
   "execution_count": null,
   "metadata": {
    "collapsed": false
   },
   "outputs": [],
   "source": [
    "ts['1949-01-01']"
   ]
  },
  {
   "cell_type": "markdown",
   "metadata": {},
   "source": [
    "Podemos también especificar un rango de fechas"
   ]
  },
  {
   "cell_type": "code",
   "execution_count": null,
   "metadata": {
    "collapsed": false
   },
   "outputs": [],
   "source": [
    "ts['1949-01-01':'1949-05-01']"
   ]
  },
  {
   "cell_type": "markdown",
   "metadata": {},
   "source": [
    "Si se deja el inicio del rango vacío, esto quiere decir \"desde el inicio hasta ...\""
   ]
  },
  {
   "cell_type": "code",
   "execution_count": null,
   "metadata": {
    "collapsed": false
   },
   "outputs": [],
   "source": [
    "ts[:'1949-05-01']"
   ]
  },
  {
   "cell_type": "markdown",
   "metadata": {},
   "source": [
    "Podemos también dar fechas que engloban un rango. Por ejemplo, todas las filas de 1960:"
   ]
  },
  {
   "cell_type": "code",
   "execution_count": null,
   "metadata": {
    "collapsed": false
   },
   "outputs": [],
   "source": [
    "ts['1960']"
   ]
  },
  {
   "cell_type": "markdown",
   "metadata": {},
   "source": [
    "# Probando la estacionariedad de la serie\n",
    "\n",
    "### Antes que nada, ¡graficarla!"
   ]
  },
  {
   "cell_type": "markdown",
   "metadata": {},
   "source": [
    "El comando plt.plot() grafica una secuencia de valores o en este caso una serie de tiempo de Pandas:"
   ]
  },
  {
   "cell_type": "code",
   "execution_count": null,
   "metadata": {
    "collapsed": false
   },
   "outputs": [],
   "source": [
    "plt.plot(ts)"
   ]
  },
  {
   "cell_type": "markdown",
   "metadata": {},
   "source": [
    "### Verificar la estacionariedad <i>a ojo</i>: media y desviación estándar\n",
    "\n",
    "Recordar de la definición de estacionareidad requiere que la serie tenga <b>media</b> y <b>varianza</b> (o desviación estándar) <i><b>constantes</b></i>.\n",
    "\n",
    "Podemos calcular la media de la serie de tiempo con .mean():"
   ]
  },
  {
   "cell_type": "code",
   "execution_count": null,
   "metadata": {
    "collapsed": false
   },
   "outputs": [],
   "source": [
    "ts.mean()"
   ]
  },
  {
   "cell_type": "markdown",
   "metadata": {},
   "source": [
    "Pero esto nos da la media de <i>todos</i> los valores de la serie de tiempo. ¿Cómo saber si la media está cambiando con el tiempo?\n",
    "\n",
    "La forma más simple es calcular una <b>media móvil</b>. En cada instante del tiempo, promediamos los valores circundantes de la serie de tiempo en una ventana de tiempo limitado.\n",
    "\n",
    "Por ejemplo, podemos calcular una media móvil promediando sobre los 12 meses alrededor de cada fecha:"
   ]
  },
  {
   "cell_type": "code",
   "execution_count": null,
   "metadata": {
    "collapsed": false
   },
   "outputs": [],
   "source": [
    "mediamovil = ts.rolling(window=12,center=True).mean()"
   ]
  },
  {
   "cell_type": "code",
   "execution_count": null,
   "metadata": {
    "collapsed": false
   },
   "outputs": [],
   "source": [
    "plt.plot(ts, label=\"Serie de tiempo\")\n",
    "plt.plot(mediamovil, label=\"Media móvil a 12 meses\")\n",
    "plt.legend(loc='best')"
   ]
  },
  {
   "cell_type": "markdown",
   "metadata": {},
   "source": [
    "Vemos que la media <b>NO</b> es constante en el tiempo, por lo que la serie <b>no es estacionaria</b>."
   ]
  },
  {
   "cell_type": "markdown",
   "metadata": {},
   "source": [
    "Similarmente, podemos calcular la <b>desviación estándar móvil</b>, definida de la misma manera:"
   ]
  },
  {
   "cell_type": "code",
   "execution_count": null,
   "metadata": {
    "collapsed": false
   },
   "outputs": [],
   "source": [
    "desvmovil = ts.rolling(window=12,center=True).std()"
   ]
  },
  {
   "cell_type": "code",
   "execution_count": null,
   "metadata": {
    "collapsed": false
   },
   "outputs": [],
   "source": [
    "plt.plot(ts, label=\"Serie de tiempo\")\n",
    "plt.plot(mediamovil, label=\"Media móvil a 12 meses\")\n",
    "plt.plot(desvmovil, label=\"Desv. est. móvil a 12 meses\")\n",
    "plt.legend(loc='best')"
   ]
  },
  {
   "cell_type": "markdown",
   "metadata": {},
   "source": [
    "La desviación estándar está mucho más cerca de ser constante, lo cual nos dice que la variabilidad de la serie no cambia mucho con el tiempo. Pero como la media sí, la serie no es estacionaria."
   ]
  },
  {
   "cell_type": "markdown",
   "metadata": {},
   "source": [
    "### Probando la estacionariedad de forma estadística: la prueba de Dickey-Fuller"
   ]
  },
  {
   "cell_type": "markdown",
   "metadata": {},
   "source": [
    "La librería statsmodels contiene contiene la prueba estadística Dickey-Fuller de estacionariedad.\n",
    "Definamos la siguiente función hacemos para hacer la prueba e imprimir los resultados automáticamente:"
   ]
  },
  {
   "cell_type": "code",
   "execution_count": null,
   "metadata": {
    "collapsed": false
   },
   "outputs": [],
   "source": [
    "from statsmodels.tsa.stattools import adfuller\n",
    "def test_stationarity(timeseries):\n",
    "    \n",
    "    # Determinar estadísticas móviles\n",
    "    rolmean = timeseries.rolling(window=12,center=True).mean()\n",
    "    rolstd = timeseries.rolling(window=12,center=True).std()\n",
    "\n",
    "    # Graficar estadísticas móviles\n",
    "    orig = plt.plot(timeseries, color='blue',label='Serie de tiempo')\n",
    "    mean = plt.plot(rolmean, color='red', label='Media móvil')\n",
    "    std = plt.plot(rolstd, color='black', label = 'Desv. est. móvil')\n",
    "    plt.legend(loc='best')\n",
    "    plt.title('Serie de tiempo con media y desv. est. móviles')\n",
    "    plt.show(block=False)\n",
    "    \n",
    "    # Realizar prueba Dicket-Fuller\n",
    "    dftest = adfuller(timeseries, autolag='AIC')\n",
    "    tstat = dftest[0]; pvalue = dftest[1]; cvalues = dftest[4]\n",
    "    print('Resultado de la prueba Dickey-Fuller')\n",
    "    print(\"------------------\")\n",
    "    print(\"Estadística de prueba\\t\",tstat)\n",
    "    print(\"p-value\\t\\t\\t\",pvalue)\n",
    "    print(\"------------------\")\n",
    "    print(\"Valores críticos (la estadística de prueba debe ser MENOR)\")\n",
    "    for clevel in [10,5,1]:\n",
    "        conf = 100-clevel\n",
    "        cval = cvalues['%i%%' % clevel]\n",
    "        if tstat < cval:\n",
    "            comp = \">\"\n",
    "            verdict = \"PASA\"\n",
    "        else:\n",
    "            comp = \"<\"\n",
    "            verdict = \"FALLA\"        \n",
    "        print(\"Confianza %i%%\\t\\t%f %s %f ... %s\" % (conf, cval, comp, tstat, verdict))"
   ]
  },
  {
   "cell_type": "markdown",
   "metadata": {},
   "source": [
    "Apliquemos la prueba a nuestra serie de tiempo:"
   ]
  },
  {
   "cell_type": "code",
   "execution_count": null,
   "metadata": {
    "collapsed": false
   },
   "outputs": [],
   "source": [
    "test_stationarity(ts)"
   ]
  },
  {
   "cell_type": "markdown",
   "metadata": {},
   "source": [
    "Vemos que la estadística de prueba es <b>mayor</b> que todos los valores críticos, por lo que <b>no podemos rechazar</b> la hipótesis nula de no-estacionariedad. La prueba de Dickey-Fuller nos confirma lo que sospechábamos."
   ]
  },
  {
   "cell_type": "markdown",
   "metadata": {},
   "source": [
    "# Haciendo que la serie de tiempo sea estacionaria\n",
    "\n",
    "La idea es que para modelar la serie de tiempo necesitamos primero hacerla estacionaria. Sólo entonces podremos usar alguno de los modelos de procesos estocásticos que hemos visto.\n",
    "\n",
    "## Estimando y eliminando la tendencia\n"
   ]
  },
  {
   "cell_type": "markdown",
   "metadata": {},
   "source": [
    "Antes de extraer la tendencia vamos a transformar la serie de tiempo para reducir la no-estacionariedad de su varianza. Esto es opcional, pero usualmente ayuda a la extracción de la tendencia.\n",
    "\n",
    "Una forma común de hacer esto es tomar el <b>logaritmo</b> de la serie de tiempo:"
   ]
  },
  {
   "cell_type": "code",
   "execution_count": null,
   "metadata": {
    "collapsed": false
   },
   "outputs": [],
   "source": [
    "ts_log = np.log(ts)\n",
    "plt.plot(ts_log)"
   ]
  },
  {
   "cell_type": "markdown",
   "metadata": {},
   "source": [
    "Notar que mientras antes los valores de la serie estaban en los cientos, ahora son menores que 6.5."
   ]
  },
  {
   "cell_type": "markdown",
   "metadata": {},
   "source": [
    "## Suavizando para encontrar la tendencia\n",
    "\n",
    "### Promediado móvil"
   ]
  },
  {
   "cell_type": "markdown",
   "metadata": {},
   "source": [
    "La media móvil sirve no solamente para determinar la estacionariedad de la serie, sino también como una estimación simple de su tendencia.\n",
    "\n",
    "Esta vez tomamos la media móvil con los <i>últimos</i> 12 valores (meses):"
   ]
  },
  {
   "cell_type": "code",
   "execution_count": null,
   "metadata": {
    "collapsed": false
   },
   "outputs": [],
   "source": [
    "moving_avg = ts_log.rolling(window=12,center=False).mean()\n",
    "plt.plot(ts_log)\n",
    "plt.plot(moving_avg, color='red')"
   ]
  },
  {
   "cell_type": "markdown",
   "metadata": {},
   "source": [
    "Tomemos ahora la <b>diferencia</b> entre la serie y su promedio móvil:"
   ]
  },
  {
   "cell_type": "code",
   "execution_count": null,
   "metadata": {
    "collapsed": true
   },
   "outputs": [],
   "source": [
    "ts_log_moving_avg_diff = ts_log - moving_avg"
   ]
  },
  {
   "cell_type": "markdown",
   "metadata": {},
   "source": [
    "Nótese que no podemos calcular el promedio móvil para los primeros 11 valores, pues necesitamos promediar sobre 12 meses.\n",
    "\n",
    "Esto se puede ver imprimiendo los primeros 12 valores de lo que hemos obtenido, y constatando que los primeros 11 son NaN (Not a Number):"
   ]
  },
  {
   "cell_type": "code",
   "execution_count": null,
   "metadata": {
    "collapsed": false
   },
   "outputs": [],
   "source": [
    "ts_log_moving_avg_diff.head(12)"
   ]
  },
  {
   "cell_type": "markdown",
   "metadata": {},
   "source": [
    "Para quitarlos, Pandas tiene la función dropna(), la cual elimina los NaNs:"
   ]
  },
  {
   "cell_type": "code",
   "execution_count": null,
   "metadata": {
    "collapsed": false
   },
   "outputs": [],
   "source": [
    "ts_log_moving_avg_diff.dropna(inplace=True)\n",
    "ts_log_moving_avg_diff.head()"
   ]
  },
  {
   "cell_type": "markdown",
   "metadata": {},
   "source": [
    "Podemos ahora sí ver si esto ha mejorado la estacionariedad de la serie:"
   ]
  },
  {
   "cell_type": "code",
   "execution_count": null,
   "metadata": {
    "collapsed": false
   },
   "outputs": [],
   "source": [
    "test_stationarity(ts_log_moving_avg_diff)"
   ]
  },
  {
   "cell_type": "markdown",
   "metadata": {},
   "source": [
    "Vemos que ahora la serie <b>pasa</b> la prueba de estacionariedad a un nivel de confianza de 95%."
   ]
  },
  {
   "cell_type": "markdown",
   "metadata": {},
   "source": [
    "## Capturando la tendencia y periodicidades (i.e. \"estacionalidad\")\n",
    "\n",
    "Aunque hemos capturado bien la tendencia de la serie, aún queda claro que tiene variaciones periódicas (\"estacionales\", como las estaciones del año ... en este caso de hecho sí son estaciones, pero el término se usa de forma genérica).\n",
    "\n",
    "Una manera popular de capturar la tendencia en la presencia de periodicidades de mediano o largo plazo es <b>diferenciando</b> la serie, es decir, tomando la aproximación discreta de su derivada.\n",
    "\n",
    "La forma más sencilla de hacer esto es simplemente restar la serie movida en 1:"
   ]
  },
  {
   "cell_type": "code",
   "execution_count": null,
   "metadata": {
    "collapsed": false
   },
   "outputs": [],
   "source": [
    "ts_log_diff = ts_log - ts_log.shift()\n",
    "plt.plot(ts_log_diff)"
   ]
  },
  {
   "cell_type": "markdown",
   "metadata": {},
   "source": [
    "Descartando el primer valor (pues no tiene valor anterior), y corriendo la prueba de estacionariedad:"
   ]
  },
  {
   "cell_type": "code",
   "execution_count": null,
   "metadata": {
    "collapsed": false
   },
   "outputs": [],
   "source": [
    "ts_log_diff.dropna(inplace=True)\n",
    "test_stationarity(ts_log_diff)"
   ]
  },
  {
   "cell_type": "markdown",
   "metadata": {},
   "source": [
    "Esto pasa la prueba a 90% de confianza, aunque no es mejor que nuestro intento anterior."
   ]
  },
  {
   "cell_type": "markdown",
   "metadata": {},
   "source": [
    "### Descomposición de la serie en tendencia y estacionalidad\n",
    "\n",
    "El siguiente paso es <b>descomponer</b> la serie identificando por separado la tendencia y la estacionalidad. Aunque eso se puede hacer de muchas formas, statsmodels incluye una herramienta para hacerlo automáticamente:"
   ]
  },
  {
   "cell_type": "code",
   "execution_count": null,
   "metadata": {
    "collapsed": false
   },
   "outputs": [],
   "source": [
    "from statsmodels.tsa.seasonal import seasonal_decompose\n",
    "decomposition = seasonal_decompose(ts_log)\n",
    "\n",
    "trend = decomposition.trend\n",
    "seasonal = decomposition.seasonal\n",
    "residual = decomposition.resid\n",
    "\n",
    "plt.subplot(411)\n",
    "plt.plot(ts_log, label='Serie')\n",
    "plt.legend(loc='best')\n",
    "plt.subplot(412)\n",
    "plt.plot(trend, label='Tendencia')\n",
    "plt.legend(loc='best')\n",
    "plt.subplot(413)\n",
    "plt.plot(seasonal,label='Estacionalidad')\n",
    "plt.legend(loc='best')\n",
    "plt.subplot(414)\n",
    "plt.plot(residual, label='Residuos')\n",
    "plt.legend(loc='best')\n",
    "plt.tight_layout()"
   ]
  },
  {
   "cell_type": "markdown",
   "metadata": {},
   "source": [
    "Si hacemos de nuevo la prueba de estacionariedad,"
   ]
  },
  {
   "cell_type": "code",
   "execution_count": null,
   "metadata": {
    "collapsed": false
   },
   "outputs": [],
   "source": [
    "ts_log_decompose = residual\n",
    "ts_log_decompose.dropna(inplace=True)\n",
    "test_stationarity(ts_log_decompose)"
   ]
  },
  {
   "cell_type": "markdown",
   "metadata": {},
   "source": [
    "Vemos que esto es sustancialmente mejor, con la mejor estadística de prueba hasta el momento (ojo que la escala vertical es muy pequeña: la media y desv. est. son casi constantes):"
   ]
  },
  {
   "cell_type": "markdown",
   "metadata": {},
   "source": [
    "# Modelado de la serie\n",
    "\n",
    "Habiendo forzado la serie a ser estacionaria, podemos ahora usar los modelos de procesos estocásticos para modelar su variabilidad, lo cual es lo que queda una vez sustraidas la tendencia y la estacionalidad.\n",
    "\n",
    "Para esto usaremos el modelo general ARIMA (Auto-Regressive Integrated Moving Average) de statsmodel, el cual permite combinar los varios tipos de modelos estocásticos:"
   ]
  },
  {
   "cell_type": "code",
   "execution_count": null,
   "metadata": {
    "collapsed": false
   },
   "outputs": [],
   "source": [
    "from statsmodels.tsa.arima_model import ARIMA"
   ]
  },
  {
   "cell_type": "markdown",
   "metadata": {},
   "source": [
    "Un modelo ARIMA depende de tres parámetros:\n",
    "\n",
    "$ARIMA(p,d,q)$\n",
    "\n",
    "donde $p$ indica el orden de la componente autoregresiva, $d$ el orden de diferenciación y $q$ el orden de la componente de media móvil."
   ]
  },
  {
   "cell_type": "markdown",
   "metadata": {},
   "source": [
    "El valor de $d$ puede estimarse según el número de veces que se tiene que diferenciar la serie para obtener algo aproximadamente estacionario; en este caso, vimos que una diferenciación ($d=1$) bastaba."
   ]
  },
  {
   "cell_type": "markdown",
   "metadata": {},
   "source": [
    "Para estimar los valores de $p$ y $d$, calculamos las funciones de autocorrelación (ACF) y autocorrelación parcial (PACF) de la serie de tiempo. Statsmodel tiene herramientas para calcularlas."
   ]
  },
  {
   "cell_type": "markdown",
   "metadata": {},
   "source": [
    "### ACF & PACF Plots\n",
    "\n",
    "A continuación se muestran las funciones de autocorrelación y autocorrelación parcial de la serie de tiempo (transformada y diferenciada, ya que esto da una serie casi estacionaria, como vimos).\n",
    "\n",
    "La líneas punteadas indican los valores dentro de los cuales podemos decir que la autocorrelación es nula (comúnmente se escoge 95% de confianza, lo cual corresponde a 1.96 desviaciones estándares)."
   ]
  },
  {
   "cell_type": "code",
   "execution_count": null,
   "metadata": {
    "collapsed": false
   },
   "outputs": [],
   "source": [
    "#ACF and PACF plots:\n",
    "from statsmodels.tsa.stattools import acf, pacf  \n",
    "\n",
    "lag_acf = acf(ts_log_diff, nlags=20)\n",
    "lag_pacf = pacf(ts_log_diff, nlags=20, method='ols')\n",
    "\n",
    "#Plot ACF:    \n",
    "plt.subplot(121)    \n",
    "plt.plot(lag_acf,\"-o\")\n",
    "plt.axhline(y=0,linestyle='--',color='gray')\n",
    "plt.axhline(y=-1.96/np.sqrt(len(ts_log_diff)),linestyle='--',color='gray')\n",
    "plt.axhline(y=1.96/np.sqrt(len(ts_log_diff)),linestyle='--',color='gray')\n",
    "plt.title('Función de Autocorrelación')\n",
    "\n",
    "#Plot PACF:\n",
    "plt.subplot(122)\n",
    "plt.plot(lag_pacf,\"-o\")\n",
    "plt.axhline(y=0,linestyle='--',color='gray')\n",
    "plt.axhline(y=-1.96/np.sqrt(len(ts_log_diff)),linestyle='--',color='gray')\n",
    "plt.axhline(y=1.96/np.sqrt(len(ts_log_diff)),linestyle='--',color='gray')\n",
    "plt.title('Función de Autocorrelación Parcial')\n",
    "plt.tight_layout()"
   ]
  },
  {
   "cell_type": "markdown",
   "metadata": {},
   "source": [
    "Usamos las gráficas para obtener los valores de $p$ y $q$ de la siguiente forma:\n",
    "<ul>\n",
    "<li>$q$ es el valor de retraso al cual la ACF cruza el límite de confianza superior, lo cual quiere decir que la correlación ha desaparecido. En este caso, $q=2$.</li>\n",
    "<li>$p$ es el valor de retraso al cual la PACF cruza el límite de confianza superior, lo cual quiere decir que la correlación parcial ha desaparecido. En este caso, $p=2$.</li>\n",
    "</ul>"
   ]
  },
  {
   "cell_type": "markdown",
   "metadata": {},
   "source": [
    "Creemos ahora tres modelos diferentes: un modelo AR(2), uno MA(2) y su combinación."
   ]
  },
  {
   "cell_type": "markdown",
   "metadata": {},
   "source": [
    "### Modelo AR(p=2)\n",
    "\n",
    "Denotaremos con RSS la suma de residuos cuadráticos entre el modelo y la serie."
   ]
  },
  {
   "cell_type": "code",
   "execution_count": null,
   "metadata": {
    "collapsed": false
   },
   "outputs": [],
   "source": [
    "#MA model:\n",
    "model = ARIMA(ts_log, order=(2, 1, 0))  \n",
    "results_AR = model.fit(disp=-1)  \n",
    "plt.plot(ts_log_diff)\n",
    "plt.plot(results_AR.fittedvalues, color='red')\n",
    "plt.title('RSS: %.4f'% sum((results_AR.fittedvalues-ts_log_diff)**2))"
   ]
  },
  {
   "cell_type": "markdown",
   "metadata": {},
   "source": [
    "### Modelo MA(q=2)"
   ]
  },
  {
   "cell_type": "code",
   "execution_count": null,
   "metadata": {
    "collapsed": false
   },
   "outputs": [],
   "source": [
    "model = ARIMA(ts_log, order=(0, 1, 2))  \n",
    "results_MA = model.fit(disp=-1)  \n",
    "plt.plot(ts_log_diff)\n",
    "plt.plot(results_MA.fittedvalues, color='red')\n",
    "plt.title('RSS: %.4f'% sum((results_MA.fittedvalues-ts_log_diff)**2))"
   ]
  },
  {
   "cell_type": "markdown",
   "metadata": {},
   "source": [
    "### Modelo combinado ARIMA\n",
    "\n",
    "Finalmente, combinando los dos modelos:"
   ]
  },
  {
   "cell_type": "code",
   "execution_count": null,
   "metadata": {
    "collapsed": false,
    "scrolled": false
   },
   "outputs": [],
   "source": [
    "model = ARIMA(ts_log, order=(2, 1, 2))\n",
    "results_ARIMA = model.fit(disp=-1)  \n",
    "plt.plot(ts_log_diff)\n",
    "plt.plot(results_ARIMA.fittedvalues, color='red')\n",
    "plt.title('RSS: %.4f'% sum((results_ARIMA.fittedvalues-ts_log_diff)**2))"
   ]
  },
  {
   "cell_type": "markdown",
   "metadata": {},
   "source": [
    "Se ve que la suma de los modelos AR y MA produce algo más cercano al comportamiento estadístico de la serie."
   ]
  },
  {
   "cell_type": "markdown",
   "metadata": {},
   "source": [
    "### Revirtiendo el modelo a la escala original\n",
    "\n",
    "Finalmente, revertimos a la escala original aplicando las transformaciones inversas.\n",
    "\n",
    "Primero, acumulamos para revertir la diferenciación:"
   ]
  },
  {
   "cell_type": "code",
   "execution_count": null,
   "metadata": {
    "collapsed": false
   },
   "outputs": [],
   "source": [
    "predictions_ARIMA_diff = pd.Series(results_ARIMA.fittedvalues, copy=True)\n",
    "predictions_ARIMA_diff_cumsum = predictions_ARIMA_diff.cumsum()"
   ]
  },
  {
   "cell_type": "markdown",
   "metadata": {},
   "source": [
    "Segundo, aplicamos el logaritmo inverso, i.e. la exponencial (además, agregamos de regreso el primer valor de la serie, el cual habíamos eliminado):"
   ]
  },
  {
   "cell_type": "code",
   "execution_count": null,
   "metadata": {
    "collapsed": false
   },
   "outputs": [],
   "source": [
    "predictions_ARIMA_log = pd.Series(ts_log.ix[0], index=ts_log.index)\n",
    "predictions_ARIMA_log = predictions_ARIMA_log.add(predictions_ARIMA_diff_cumsum,fill_value=0)\n",
    "predictions_ARIMA = np.exp(predictions_ARIMA_log)\n",
    "plt.plot(ts)\n",
    "plt.plot(predictions_ARIMA)\n",
    "plt.title('RMSE: %.4f'% np.sqrt(sum((predictions_ARIMA-ts)**2)/len(ts)))"
   ]
  },
  {
   "cell_type": "markdown",
   "metadata": {},
   "source": [
    "El modelo final quizás es sólo aproximado, pero el procedimiento ilustra cómo se calcula."
   ]
  }
 ],
 "metadata": {
  "kernelspec": {
   "display_name": "Python [Root]",
   "language": "python",
   "name": "Python [Root]"
  },
  "language_info": {
   "codemirror_mode": {
    "name": "ipython",
    "version": 3
   },
   "file_extension": ".py",
   "mimetype": "text/x-python",
   "name": "python",
   "nbconvert_exporter": "python",
   "pygments_lexer": "ipython3",
   "version": "3.5.2"
  }
 },
 "nbformat": 4,
 "nbformat_minor": 0
}
